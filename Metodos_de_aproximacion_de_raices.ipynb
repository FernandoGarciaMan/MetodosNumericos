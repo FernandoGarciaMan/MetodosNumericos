{
  "cells": [
    {
      "cell_type": "markdown",
      "metadata": {
        "id": "view-in-github",
        "colab_type": "text"
      },
      "source": [
        "<a href=\"https://colab.research.google.com/github/FernandoGarciaMan/MetodosNumericos/blob/main/Metodos_de_aproximacion_de_raices.ipynb\" target=\"_parent\"><img src=\"https://colab.research.google.com/assets/colab-badge.svg\" alt=\"Open In Colab\"/></a>"
      ]
    },
    {
      "cell_type": "code",
      "execution_count": null,
      "metadata": {
        "id": "6dlnNvTVEX-7"
      },
      "outputs": [],
      "source": [
        "import matplotlib.pyplot as plt\n",
        "import numpy as np\n",
        "def f(x):\n",
        "  #Define la funcion\n",
        "  return result\n",
        "\n",
        "x_values = []\n",
        "y_values = []\n",
        "\n",
        "for i in np.linspace(0,5,100):\n",
        "  x_values.append(i)\n",
        "  y_values.append(f(i))\n",
        "\n",
        "plt.figure\n",
        "plt.plot(x_values, y_values)\n",
        "def df(x):\n",
        "  #Define su derivada\n",
        "  return result\n"
      ]
    },
    {
      "cell_type": "code",
      "execution_count": null,
      "metadata": {
        "id": "ILoIs0EHE8EH"
      },
      "outputs": [],
      "source": [
        "#Newton-Rhapson\n",
        "def newton(x,f,df): #Newton parte de un punto en especifico y usa la derivada para aproximar la raiz\n",
        "  t=0.001 #Tolerancia\n",
        "  error = 2*t\n",
        "  xr= x\n",
        "  i = 0\n",
        "  while error > t:\n",
        "    xe = xr\n",
        "    xr = xr-(f(xr)/df(xr))\n",
        "    if (xr != 0):\n",
        "      error = abs((xr - xe)/xr)\n",
        "    i = i+1\n",
        "  print('En newton la raiz es', xr)\n",
        "  print('En newton numero de iteracciones', i)\n",
        "  print('En newton error', error)\n"
      ]
    },
    {
      "cell_type": "code",
      "execution_count": null,
      "metadata": {
        "id": "IaW6ewvAG2oW"
      },
      "outputs": [],
      "source": [
        "#Metodo de la Secante\n",
        "def secante(x0, x1, f): #En este metodo debes encerrar la raiz dentro de dos valores del eje x, x0 y x1\n",
        "  t= 0.001\n",
        "  error = 2*t\n",
        "  xr0 = x1\n",
        "  xi = x0\n",
        "  xr = 0\n",
        "  while error > t:\n",
        "\n",
        "    xr0 = xr - (f(xr)*(xi-xr))/(f(xi)-f(xr))\n",
        "    if (xr != 0):\n",
        "      error = abs((xr - xi)/xr)\n",
        "    xi = xr\n",
        "    xr = xr0\n",
        "\n",
        "  print('En secante la raiz es', xr)\n",
        "  print('En secante numero de iteracciones', i)\n",
        "  print('En secante error', error)"
      ]
    },
    {
      "cell_type": "code",
      "execution_count": null,
      "metadata": {
        "id": "RbPzod4TL57b"
      },
      "outputs": [],
      "source": [
        "#Metodo de punto fijo\n",
        "def pf(x0, g):\n",
        "  t= 0.001 #Tolerancia\n",
        "  error = 2*t\n",
        "  xr = x0\n",
        "  xe = 0\n",
        "  i = 0\n",
        "  while error>t:\n",
        "    xe = xr\n",
        "    xr = g(xr)\n",
        "    error = abs((xr-xe)/xr)\n",
        "    i = i+1\n",
        "  print('En punto fijo la raiz es', xr)\n",
        "  print('En punto fijo numero de iteracciones', i)\n",
        "  print('En punto fijo Error', error)\n"
      ]
    }
  ],
  "metadata": {
    "colab": {
      "provenance": [],
      "authorship_tag": "ABX9TyM8jTzUcuLcnLahpLkpslAh",
      "include_colab_link": true
    },
    "kernelspec": {
      "display_name": "Python 3",
      "name": "python3"
    },
    "language_info": {
      "name": "python"
    }
  },
  "nbformat": 4,
  "nbformat_minor": 0
}