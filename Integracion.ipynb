{
  "nbformat": 4,
  "nbformat_minor": 0,
  "metadata": {
    "colab": {
      "provenance": [],
      "include_colab_link": true
    },
    "kernelspec": {
      "name": "python3",
      "display_name": "Python 3"
    },
    "language_info": {
      "name": "python"
    }
  },
  "cells": [
    {
      "cell_type": "markdown",
      "metadata": {
        "id": "view-in-github",
        "colab_type": "text"
      },
      "source": [
        "<a href=\"https://colab.research.google.com/github/FernandoGarciaMan/MetodosNumericos/blob/main/Integracion.ipynb\" target=\"_parent\"><img src=\"https://colab.research.google.com/assets/colab-badge.svg\" alt=\"Open In Colab\"/></a>"
      ]
    },
    {
      "cell_type": "code",
      "execution_count": null,
      "metadata": {
        "colab": {
          "base_uri": "https://localhost:8080/"
        },
        "id": "Z_HGnS8KU_Wv",
        "outputId": "55832a0e-effb-4f86-e77f-032afeca4fbc"
      },
      "outputs": [
        {
          "output_type": "stream",
          "name": "stdout",
          "text": [
            "Collecting wget\n",
            "  Downloading wget-3.2.zip (10 kB)\n",
            "  Preparing metadata (setup.py) ... \u001b[?25l\u001b[?25hdone\n",
            "Building wheels for collected packages: wget\n",
            "  Building wheel for wget (setup.py) ... \u001b[?25l\u001b[?25hdone\n",
            "  Created wheel for wget: filename=wget-3.2-py3-none-any.whl size=9657 sha256=248b6039f605ec24beae96ec4f4c6c1e3a31b8a783b6d10d34b6e49763b483df\n",
            "  Stored in directory: /root/.cache/pip/wheels/8b/f1/7f/5c94f0a7a505ca1c81cd1d9208ae2064675d97582078e6c769\n",
            "Successfully built wget\n",
            "Installing collected packages: wget\n",
            "Successfully installed wget-3.2\n"
          ]
        }
      ],
      "source": [
        "!pip install wget\n",
        "\n",
        "import wget\n",
        "import numpy as np\n",
        "\n",
        "url = \"https://raw.githubusercontent.com/gmauricio-toledo/MetodosNumericos/main/datos/datos_femur_altura.csv\"\n",
        "fname = url.split('/')[-1]\n",
        "wget.download(url, fname)\n",
        "\n",
        "datos = np.loadtxt(fname=fname,delimiter=' ')"
      ]
    },
    {
      "cell_type": "code",
      "source": [
        "print(datos)\n"
      ],
      "metadata": {
        "colab": {
          "base_uri": "https://localhost:8080/"
        },
        "id": "f9AYipjNVAH8",
        "outputId": "0f650168-5fa8-4937-d02e-5e855d860f56"
      },
      "execution_count": null,
      "outputs": [
        {
          "output_type": "stream",
          "name": "stdout",
          "text": [
            "[[ 50.8 171.5]\n",
            " [ 45.4 165. ]\n",
            " [ 47.5 165. ]\n",
            " [ 47.  164. ]\n",
            " [ 52.  185. ]\n",
            " [ 51.4 182. ]\n",
            " [ 44.9 154. ]\n",
            " [ 48.4 170. ]\n",
            " [ 45.6 169. ]\n",
            " [ 47.3 170. ]\n",
            " [ 45.6 166. ]\n",
            " [ 41.6 148. ]\n",
            " [ 48.5 173. ]\n",
            " [ 49.  175. ]\n",
            " [ 47.8 170. ]\n",
            " [ 44.1 153. ]\n",
            " [ 50.8 174.5]\n",
            " [ 45.8 163. ]\n",
            " [ 44.3 159. ]\n",
            " [ 50.  173. ]\n",
            " [ 51.3 179. ]\n",
            " [ 46.1 167.5]\n",
            " [ 50.8 171.5]\n",
            " [ 48.5 170.5]\n",
            " [ 49.3 177. ]\n",
            " [ 47.  164. ]\n",
            " [ 54.4 184. ]\n",
            " [ 52.6 180. ]\n",
            " [ 47.  168. ]\n",
            " [ 47.  170. ]\n",
            " [ 44.5 163. ]\n",
            " [ 48.4 174. ]\n",
            " [ 45.1 161. ]\n",
            " [ 48.  159. ]\n",
            " [ 47.5 171. ]\n",
            " [ 48.  175. ]\n",
            " [ 46.2 166. ]\n",
            " [ 52.  177. ]\n",
            " [ 48.  171.5]\n",
            " [ 46.6 169. ]\n",
            " [ 51.3 172.5]\n",
            " [ 45.6 174. ]\n",
            " [ 50.8 179. ]\n",
            " [ 42.1 157.5]\n",
            " [ 41.7 152.5]\n",
            " [ 50.9 175. ]\n",
            " [ 49.6 173.5]\n",
            " [ 44.1 157.5]\n",
            " [ 43.4 156. ]\n",
            " [ 49.6 174. ]\n",
            " [ 48.3 170. ]\n",
            " [ 52.8 183. ]]\n"
          ]
        }
      ]
    },
    {
      "cell_type": "code",
      "source": [
        "xs= datos[:,0]\n",
        "ys= datos[:,1]"
      ],
      "metadata": {
        "id": "ntz2B-KaVDgh"
      },
      "execution_count": null,
      "outputs": []
    },
    {
      "cell_type": "code",
      "source": [
        "import matplotlib.pyplot as plt\n",
        "\n",
        "plt.figure()\n",
        "plt.scatter(xs,ys)\n",
        "plt.xlabel(\"Longitud del fémur (cm)\")\n",
        "plt.ylabel(\"Altura (cm)\")\n",
        "plt.show()"
      ],
      "metadata": {
        "colab": {
          "base_uri": "https://localhost:8080/",
          "height": 450
        },
        "id": "QMjglylGW7LK",
        "outputId": "e32f6197-b0c5-4b02-9685-ce0075abe75d"
      },
      "execution_count": null,
      "outputs": [
        {
          "output_type": "display_data",
          "data": {
            "text/plain": [
              "<Figure size 640x480 with 1 Axes>"
            ],
            "image/png": "[encoded data removed]"
          },
          "metadata": {}
        }
      ]
    },
    {
      "cell_type": "code",
      "source": [
        "def error_relativo(valor_real,aproximacion):\n",
        "    return (valor_real-aproximacion)/valor_real"
      ],
      "metadata": {
        "id": "X3FIbSWDXHWt"
      },
      "execution_count": null,
      "outputs": []
    },
    {
      "cell_type": "code",
      "source": [
        "from sklearn.linear_model import LinearRegression\n",
        "\n",
        "lr = LinearRegression()"
      ],
      "metadata": {
        "id": "asBkSB5LXQHZ"
      },
      "execution_count": null,
      "outputs": []
    },
    {
      "cell_type": "code",
      "source": [
        "lr.fit(xs.reshape((-1,1)),ys)"
      ],
      "metadata": {
        "colab": {
          "base_uri": "https://localhost:8080/",
          "height": 75
        },
        "id": "wpQG0PwhXUMg",
        "outputId": "4338249a-3d21-4f88-fa7d-a24568362e52"
      },
      "execution_count": null,
      "outputs": [
        {
          "output_type": "execute_result",
          "data": {
            "text/plain": [
              "LinearRegression()"
            ],
            "text/html": [
              "<style>#sk-container-id-1 {color: black;background-color: white;}#sk-container-id-1 pre{padding: 0;}#sk-container-id-1 div.sk-toggleable {background-color: white;}#sk-container-id-1 label.sk-toggleable__label {cursor: pointer;display: block;width: 100%;margin-bottom: 0;padding: 0.3em;box-sizing: border-box;text-align: center;}#sk-container-id-1 label.sk-toggleable__label-arrow:before {content: \"▸\";float: left;margin-right: 0.25em;color: #696969;}#sk-container-id-1 label.sk-toggleable__label-arrow:hover:before {color: black;}#sk-container-id-1 div.sk-estimator:hover label.sk-toggleable__label-arrow:before {color: black;}#sk-container-id-1 div.sk-toggleable__content {max-height: 0;max-width: 0;overflow: hidden;text-align: left;background-color: #f0f8ff;}#sk-container-id-1 div.sk-toggleable__content pre {margin: 0.2em;color: black;border-radius: 0.25em;background-color: #f0f8ff;}#sk-container-id-1 input.sk-toggleable__control:checked~div.sk-toggleable__content {max-height: 200px;max-width: 100%;overflow: auto;}#sk-container-id-1 input.sk-toggleable__control:checked~label.sk-toggleable__label-arrow:before {content: \"▾\";}#sk-container-id-1 div.sk-estimator input.sk-toggleable__control:checked~label.sk-toggleable__label {background-color: #d4ebff;}#sk-container-id-1 div.sk-label input.sk-toggleable__control:checked~label.sk-toggleable__label {background-color: #d4ebff;}#sk-container-id-1 input.sk-hidden--visually {border: 0;clip: rect(1px 1px 1px 1px);clip: rect(1px, 1px, 1px, 1px);height: 1px;margin: -1px;overflow: hidden;padding: 0;position: absolute;width: 1px;}#sk-container-id-1 div.sk-estimator {font-family: monospace;background-color: #f0f8ff;border: 1px dotted black;border-radius: 0.25em;box-sizing: border-box;margin-bottom: 0.5em;}#sk-container-id-1 div.sk-estimator:hover {background-color: #d4ebff;}#sk-container-id-1 div.sk-parallel-item::after {content: \"\";width: 100%;border-bottom: 1px solid gray;flex-grow: 1;}#sk-container-id-1 div.sk-label:hover label.sk-toggleable__label {background-color: #d4ebff;}#sk-container-id-1 div.sk-serial::before {content: \"\";position: absolute;border-left: 1px solid gray;box-sizing: border-box;top: 0;bottom: 0;left: 50%;z-index: 0;}#sk-container-id-1 div.sk-serial {display: flex;flex-direction: column;align-items: center;background-color: white;padding-right: 0.2em;padding-left: 0.2em;position: relative;}#sk-container-id-1 div.sk-item {position: relative;z-index: 1;}#sk-container-id-1 div.sk-parallel {display: flex;align-items: stretch;justify-content: center;background-color: white;position: relative;}#sk-container-id-1 div.sk-item::before, #sk-container-id-1 div.sk-parallel-item::before {content: \"\";position: absolute;border-left: 1px solid gray;box-sizing: border-box;top: 0;bottom: 0;left: 50%;z-index: -1;}#sk-container-id-1 div.sk-parallel-item {display: flex;flex-direction: column;z-index: 1;position: relative;background-color: white;}#sk-container-id-1 div.sk-parallel-item:first-child::after {align-self: flex-end;width: 50%;}#sk-container-id-1 div.sk-parallel-item:last-child::after {align-self: flex-start;width: 50%;}#sk-container-id-1 div.sk-parallel-item:only-child::after {width: 0;}#sk-container-id-1 div.sk-dashed-wrapped {border: 1px dashed gray;margin: 0 0.4em 0.5em 0.4em;box-sizing: border-box;padding-bottom: 0.4em;background-color: white;}#sk-container-id-1 div.sk-label label {font-family: monospace;font-weight: bold;display: inline-block;line-height: 1.2em;}#sk-container-id-1 div.sk-label-container {text-align: center;}#sk-container-id-1 div.sk-container {/* jupyter's `normalize.less` sets `[hidden] { display: none; }` but bootstrap.min.css set `[hidden] { display: none !important; }` so we also need the `!important` here to be able to override the default hidden behavior on the sphinx rendered scikit-learn.org. See: https://github.com/scikit-learn/scikit-learn/issues/21755 */display: inline-block !important;position: relative;}#sk-container-id-1 div.sk-text-repr-fallback {display: none;}</style><div id=\"sk-container-id-1\" class=\"sk-top-container\"><div class=\"sk-text-repr-fallback\"><pre>LinearRegression()</pre><b>In a Jupyter environment, please rerun this cell to show the HTML representation or trust the notebook. <br />On GitHub, the HTML representation is unable to render, please try loading this page with nbviewer.org.</b></div><div class=\"sk-container\" hidden><div class=\"sk-item\"><div class=\"sk-estimator sk-toggleable\"><input class=\"sk-toggleable__control sk-hidden--visually\" id=\"sk-estimator-id-1\" type=\"checkbox\" checked><label for=\"sk-estimator-id-1\" class=\"sk-toggleable__label sk-toggleable__label-arrow\">LinearRegression</label><div class=\"sk-toggleable__content\"><pre>LinearRegression()</pre></div></div></div></div></div>"
            ]
          },
          "metadata": {},
          "execution_count": 7
        }
      ]
    },
    {
      "cell_type": "code",
      "source": [
        "m = lr.coef_\n",
        "b = lr.intercept_"
      ],
      "metadata": {
        "id": "sSJJbiEDXWDA"
      },
      "execution_count": null,
      "outputs": []
    },
    {
      "cell_type": "code",
      "source": [
        "lr.score(xs.reshape((-1,1)),\n",
        "         ys)"
      ],
      "metadata": {
        "colab": {
          "base_uri": "https://localhost:8080/"
        },
        "id": "9BJV6PRTXYjF",
        "outputId": "5e505ae4-0c50-471e-9258-da88481860bf"
      },
      "execution_count": null,
      "outputs": [
        {
          "output_type": "execute_result",
          "data": {
            "text/plain": [
              "0.8024437811952196"
            ]
          },
          "metadata": {},
          "execution_count": 9
        }
      ]
    },
    {
      "cell_type": "code",
      "source": [
        "def f(x):\n",
        "    result = m*x+b\n",
        "\n",
        "    return result"
      ],
      "metadata": {
        "id": "5TLfiXfEXcBs"
      },
      "execution_count": null,
      "outputs": []
    },
    {
      "cell_type": "code",
      "source": [
        "print(\"Altura: \",f(52))\n",
        "print(\"Error: \",error_relativo(180,f(52)))"
      ],
      "metadata": {
        "colab": {
          "base_uri": "https://localhost:8080/"
        },
        "id": "fTojE-lRXnlJ",
        "outputId": "cd8fe703-4438-4bb9-d1f1-424196b45dc5"
      },
      "execution_count": null,
      "outputs": [
        {
          "output_type": "stream",
          "name": "stdout",
          "text": [
            "Altura:  [179.73775821]\n",
            "Error:  [0.0014569]\n"
          ]
        }
      ]
    },
    {
      "cell_type": "code",
      "source": [
        "import matplotlib.pyplot as plt\n",
        "\n",
        "plt.figure()\n",
        "plt.scatter(xs,ys)\n",
        "plt.xlabel(\"Longitud del fémur (cm)\")\n",
        "plt.ylabel(\"Altura (cm)\")\n",
        "plt.show()"
      ],
      "metadata": {
        "colab": {
          "base_uri": "https://localhost:8080/",
          "height": 450
        },
        "id": "5t2Mk4AQY9e4",
        "outputId": "706ca948-63ab-4366-ac5e-f45672aaf569"
      },
      "execution_count": null,
      "outputs": [
        {
          "output_type": "display_data",
          "data": {
            "text/plain": [
              "<Figure size 640x480 with 1 Axes>"
            ],
            "image/png": "[encoded data removed]"
          },
          "metadata": {}
        }
      ]
    },
    {
      "cell_type": "code",
      "source": [
        "from scipy.integrate import simpson\n",
        "\n",
        "simpson(ys, xs)"
      ],
      "metadata": {
        "colab": {
          "base_uri": "https://localhost:8080/"
        },
        "id": "lMuAY2MvZA2n",
        "outputId": "028b42dc-e26c-4fc4-d2be-1ee82a1dbeb6"
      },
      "execution_count": null,
      "outputs": [
        {
          "output_type": "execute_result",
          "data": {
            "text/plain": [
              "433.5542239233431"
            ]
          },
          "metadata": {},
          "execution_count": 13
        }
      ]
    },
    {
      "cell_type": "code",
      "source": [
        "xmin = np.min(xs)\n",
        "xmax = np.max(xs)"
      ],
      "metadata": {
        "id": "m9VM67tIZDyR"
      },
      "execution_count": null,
      "outputs": []
    },
    {
      "cell_type": "code",
      "source": [
        "from scipy.integrate import quad\n",
        "\n",
        "quad(func=f,\n",
        "     a=xmin,\n",
        "     b=xmax)\n"
      ],
      "metadata": {
        "colab": {
          "base_uri": "https://localhost:8080/"
        },
        "id": "7Z4pS19zccuS",
        "outputId": "dc598d49-8eba-4481-b770-540a4a7876e9"
      },
      "execution_count": null,
      "outputs": [
        {
          "output_type": "execute_result",
          "data": {
            "text/plain": [
              "(2170.3823613190198, 2.4096084697766914e-11)"
            ]
          },
          "metadata": {},
          "execution_count": 15
        }
      ]
    },
    {
      "cell_type": "code",
      "source": [
        "\n",
        "def trapecio_sencilla(f,a,b,valor_real):\n",
        "    resultado = (b-a)*(f(a)+f(b))/(2)\n",
        "    error = error_relativo(valor_real,resultado)\n",
        "    return resultado, error\n",
        "\n"
      ],
      "metadata": {
        "id": "I-Sa757QZKiv"
      },
      "execution_count": null,
      "outputs": []
    },
    {
      "cell_type": "code",
      "source": [
        "trapecio_sencilla(f,xmin,xmax,32.90525553101446)"
      ],
      "metadata": {
        "colab": {
          "base_uri": "https://localhost:8080/"
        },
        "id": "hVUGdwJtZPn5",
        "outputId": "4943a507-4d82-46cb-c500-4f3f432e7756"
      },
      "execution_count": null,
      "outputs": [
        {
          "output_type": "execute_result",
          "data": {
            "text/plain": [
              "(array([2170.38236132]), array([-64.95853235]))"
            ]
          },
          "metadata": {},
          "execution_count": 17
        }
      ]
    }
  ]
}